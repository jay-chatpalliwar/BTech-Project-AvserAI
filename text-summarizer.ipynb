{
  "cells": [
    {
      "cell_type": "code",
      "execution_count": 1,
      "metadata": {
        "colab": {
          "base_uri": "https://localhost:8080/"
        },
        "id": "YThDjSzmegl1",
        "outputId": "596e73cf-d2c7-41d4-c02b-52faf95c650c"
      },
      "outputs": [
        {
          "name": "stderr",
          "output_type": "stream",
          "text": [
            "[nltk_data] Downloading package punkt to\n",
            "[nltk_data]     C:\\Users\\ACER\\AppData\\Roaming\\nltk_data...\n",
            "[nltk_data]   Package punkt is already up-to-date!\n",
            "[nltk_data] Downloading package stopwords to\n",
            "[nltk_data]     C:\\Users\\ACER\\AppData\\Roaming\\nltk_data...\n",
            "[nltk_data]   Package stopwords is already up-to-date!\n"
          ]
        }
      ],
      "source": [
        "import bs4 as bs\n",
        "import urllib.request as url\n",
        "import re\n",
        "import nltk\n",
        "nltk.download('punkt')\n",
        "nltk.download('stopwords')\n",
        "from nltk.tokenize import sent_tokenize, word_tokenize\n",
        "from nltk.corpus import stopwords\n",
        "from nltk.probability import FreqDist\n",
        "import heapq\n",
        "from string import punctuation"
      ]
    },
    {
      "cell_type": "code",
      "execution_count": 2,
      "metadata": {
        "id": "Ob6BBRDWe0b6"
      },
      "outputs": [],
      "source": [
        "article_text = \"\"\"\n",
        "Constems-AI\n",
        "Andoid App Developer Intern\n",
        "Noida\n",
        "Easy Apply\n",
        "Easy Apply\n",
        "Key Responsibilities:\n",
        "Develop and maintain Android applications.\n",
        "Collaborate with cross-functional teams to design, develop, and test new features.\n",
        "Ensure the performance, quality, and responsiveness of applications.\n",
        "Identify and fix bugs, and improve the performance of existing applications.\n",
        "Stay up-to-date with new trends, libraries, and technologies in Android development.\n",
        "Requirements:\n",
        "Currently pursuing or recently completed a degree in Computer Science, Software Engineering or a related field.\n",
        "Knowledge of Java and/or Kotlin programming languages.\n",
        "Understanding of Android SDK, Android Studio, and Android API levels.\n",
        "Familiarity with RESTful APIs and JSON data format.\n",
        "Strong analytical and problem-solving skills.\n",
        "Ability to work in a team environment.\n",
        "Excellent written and verbal communication skills.\n",
        "Job Type: Internship\n",
        "Contract length: 6 months\n",
        "Pay: ₹10,000.00 per month\n",
        "Schedule:\n",
        "Day shift\n",
        "...\n",
        "The minimum salary is ₹10T and the max salary is ₹10T.\n",
        "₹10T/mo (Employer est.)\n",
        "Noida\n",
        "\"\"\"\n",
        "\n"
      ]
    },
    {
      "cell_type": "code",
      "execution_count": 4,
      "metadata": {
        "colab": {
          "base_uri": "https://localhost:8080/"
        },
        "id": "PGm8QKIbflJq",
        "outputId": "ea27ee17-a1be-4dc7-d585-aaa97b53efc9"
      },
      "outputs": [
        {
          "name": "stdout",
          "output_type": "stream",
          "text": [
            "Constems-AI Andoid App Developer Intern Noida Easy Apply Easy Apply Key Responsibilities: Develop and maintain Android applications. Collaborate with cross-functional teams to design, develop, and test new features. Ensure the performance, quality, and responsiveness of applications. Identify and fix bugs, and improve the performance of existing applications. Stay up-to-date with new trends, libraries, and technologies in Android development. Requirements: Currently pursuing or recently completed a degree in Computer Science, Software Engineering or a related field. Knowledge of Java and/or Kotlin programming languages. Understanding of Android SDK, Android Studio, and Android API levels. Familiarity with RESTful APIs and JSON data format. Strong analytical and problem-solving skills. Ability to work in a team environment. Excellent written and verbal communication skills. Job Type: Internship Contract length: 6 months Pay: ₹10,000.00 per month Schedule: Day shift ... The minimum salary is ₹10T and the max salary is ₹10T. ₹10T/mo (Employer est.) Noida\n"
          ]
        }
      ],
      "source": [
        "import re\n",
        "\n",
        "# Remove square brackets and content within them\n",
        "article_text = re.sub(r'\\[.*?\\]', '', article_text)\n",
        "\n",
        "# Replace newlines with spaces and remove extra spaces\n",
        "article_text = re.sub(r'\\s+', ' ', article_text).strip()\n",
        "\n",
        "print(article_text)\n"
      ]
    },
    {
      "cell_type": "code",
      "execution_count": 5,
      "metadata": {
        "id": "XGWSTYSvgTID"
      },
      "outputs": [],
      "source": [
        "# remove special characters and digits\n",
        "formatted_article_text = re.sub('[^a-zA-Z]', ' ', article_text )\n",
        "formatted_article_text = re.sub(r'\\s+', ' ', formatted_article_text)"
      ]
    },
    {
      "cell_type": "code",
      "execution_count": 6,
      "metadata": {
        "id": "M-6Q31OugUyt"
      },
      "outputs": [],
      "source": [
        "\n",
        "sentence_list = nltk.sent_tokenize(article_text)"
      ]
    },
    {
      "cell_type": "code",
      "execution_count": 7,
      "metadata": {
        "id": "csmgHnAygaqK"
      },
      "outputs": [],
      "source": [
        "stopwords = nltk.corpus.stopwords.words('english')"
      ]
    },
    {
      "cell_type": "code",
      "execution_count": 8,
      "metadata": {
        "id": "oeAV6AnVgcov"
      },
      "outputs": [],
      "source": [
        "word_frequencies = {}\n",
        "\n",
        "for word in nltk.word_tokenize(formatted_article_text):\n",
        "    if word not in stopwords and word not in punctuation:\n",
        "        if word not in word_frequencies.keys():\n",
        "            word_frequencies[word] = 1\n",
        "        else:\n",
        "            word_frequencies[word] += 1"
      ]
    },
    {
      "cell_type": "code",
      "execution_count": 9,
      "metadata": {
        "colab": {
          "base_uri": "https://localhost:8080/"
        },
        "id": "W9r_yvm0gcYq",
        "outputId": "3b39e5e7-25a4-4a42-b656-7edcfe4ef927"
      },
      "outputs": [
        {
          "data": {
            "text/plain": [
              "{'Constems': 1,\n",
              " 'AI': 1,\n",
              " 'Andoid': 1,\n",
              " 'App': 1,\n",
              " 'Developer': 1,\n",
              " 'Intern': 1,\n",
              " 'Noida': 2,\n",
              " 'Easy': 2,\n",
              " 'Apply': 2,\n",
              " 'Key': 1,\n",
              " 'Responsibilities': 1,\n",
              " 'Develop': 1,\n",
              " 'maintain': 1,\n",
              " 'Android': 5,\n",
              " 'applications': 3,\n",
              " 'Collaborate': 1,\n",
              " 'cross': 1,\n",
              " 'functional': 1,\n",
              " 'teams': 1,\n",
              " 'design': 1,\n",
              " 'develop': 1,\n",
              " 'test': 1,\n",
              " 'new': 2,\n",
              " 'features': 1,\n",
              " 'Ensure': 1,\n",
              " 'performance': 2,\n",
              " 'quality': 1,\n",
              " 'responsiveness': 1,\n",
              " 'Identify': 1,\n",
              " 'fix': 1,\n",
              " 'bugs': 1,\n",
              " 'improve': 1,\n",
              " 'existing': 1,\n",
              " 'Stay': 1,\n",
              " 'date': 1,\n",
              " 'trends': 1,\n",
              " 'libraries': 1,\n",
              " 'technologies': 1,\n",
              " 'development': 1,\n",
              " 'Requirements': 1,\n",
              " 'Currently': 1,\n",
              " 'pursuing': 1,\n",
              " 'recently': 1,\n",
              " 'completed': 1,\n",
              " 'degree': 1,\n",
              " 'Computer': 1,\n",
              " 'Science': 1,\n",
              " 'Software': 1,\n",
              " 'Engineering': 1,\n",
              " 'related': 1,\n",
              " 'field': 1,\n",
              " 'Knowledge': 1,\n",
              " 'Java': 1,\n",
              " 'Kotlin': 1,\n",
              " 'programming': 1,\n",
              " 'languages': 1,\n",
              " 'Understanding': 1,\n",
              " 'SDK': 1,\n",
              " 'Studio': 1,\n",
              " 'API': 1,\n",
              " 'levels': 1,\n",
              " 'Familiarity': 1,\n",
              " 'RESTful': 1,\n",
              " 'APIs': 1,\n",
              " 'JSON': 1,\n",
              " 'data': 1,\n",
              " 'format': 1,\n",
              " 'Strong': 1,\n",
              " 'analytical': 1,\n",
              " 'problem': 1,\n",
              " 'solving': 1,\n",
              " 'skills': 2,\n",
              " 'Ability': 1,\n",
              " 'work': 1,\n",
              " 'team': 1,\n",
              " 'environment': 1,\n",
              " 'Excellent': 1,\n",
              " 'written': 1,\n",
              " 'verbal': 1,\n",
              " 'communication': 1,\n",
              " 'Job': 1,\n",
              " 'Type': 1,\n",
              " 'Internship': 1,\n",
              " 'Contract': 1,\n",
              " 'length': 1,\n",
              " 'months': 1,\n",
              " 'Pay': 1,\n",
              " 'per': 1,\n",
              " 'month': 1,\n",
              " 'Schedule': 1,\n",
              " 'Day': 1,\n",
              " 'shift': 1,\n",
              " 'The': 1,\n",
              " 'minimum': 1,\n",
              " 'salary': 2,\n",
              " 'T': 3,\n",
              " 'max': 1,\n",
              " 'mo': 1,\n",
              " 'Employer': 1,\n",
              " 'est': 1}"
            ]
          },
          "execution_count": 9,
          "metadata": {},
          "output_type": "execute_result"
        }
      ],
      "source": [
        "word_frequencies\n"
      ]
    },
    {
      "cell_type": "code",
      "execution_count": 10,
      "metadata": {
        "id": "_SCJbZwUgmmF"
      },
      "outputs": [],
      "source": [
        "\n",
        "maximum_frequncy = max(word_frequencies.values())\n",
        "\n",
        "for word in word_frequencies.keys():\n",
        "    word_frequencies[word] = (word_frequencies[word]/maximum_frequncy)"
      ]
    },
    {
      "cell_type": "code",
      "execution_count": 11,
      "metadata": {
        "colab": {
          "base_uri": "https://localhost:8080/"
        },
        "id": "d9E8dJdZgtuD",
        "outputId": "832ca3ec-d03e-4992-a345-097db172bad9"
      },
      "outputs": [
        {
          "data": {
            "text/plain": [
              "{'Constems': 0.2,\n",
              " 'AI': 0.2,\n",
              " 'Andoid': 0.2,\n",
              " 'App': 0.2,\n",
              " 'Developer': 0.2,\n",
              " 'Intern': 0.2,\n",
              " 'Noida': 0.4,\n",
              " 'Easy': 0.4,\n",
              " 'Apply': 0.4,\n",
              " 'Key': 0.2,\n",
              " 'Responsibilities': 0.2,\n",
              " 'Develop': 0.2,\n",
              " 'maintain': 0.2,\n",
              " 'Android': 1.0,\n",
              " 'applications': 0.6,\n",
              " 'Collaborate': 0.2,\n",
              " 'cross': 0.2,\n",
              " 'functional': 0.2,\n",
              " 'teams': 0.2,\n",
              " 'design': 0.2,\n",
              " 'develop': 0.2,\n",
              " 'test': 0.2,\n",
              " 'new': 0.4,\n",
              " 'features': 0.2,\n",
              " 'Ensure': 0.2,\n",
              " 'performance': 0.4,\n",
              " 'quality': 0.2,\n",
              " 'responsiveness': 0.2,\n",
              " 'Identify': 0.2,\n",
              " 'fix': 0.2,\n",
              " 'bugs': 0.2,\n",
              " 'improve': 0.2,\n",
              " 'existing': 0.2,\n",
              " 'Stay': 0.2,\n",
              " 'date': 0.2,\n",
              " 'trends': 0.2,\n",
              " 'libraries': 0.2,\n",
              " 'technologies': 0.2,\n",
              " 'development': 0.2,\n",
              " 'Requirements': 0.2,\n",
              " 'Currently': 0.2,\n",
              " 'pursuing': 0.2,\n",
              " 'recently': 0.2,\n",
              " 'completed': 0.2,\n",
              " 'degree': 0.2,\n",
              " 'Computer': 0.2,\n",
              " 'Science': 0.2,\n",
              " 'Software': 0.2,\n",
              " 'Engineering': 0.2,\n",
              " 'related': 0.2,\n",
              " 'field': 0.2,\n",
              " 'Knowledge': 0.2,\n",
              " 'Java': 0.2,\n",
              " 'Kotlin': 0.2,\n",
              " 'programming': 0.2,\n",
              " 'languages': 0.2,\n",
              " 'Understanding': 0.2,\n",
              " 'SDK': 0.2,\n",
              " 'Studio': 0.2,\n",
              " 'API': 0.2,\n",
              " 'levels': 0.2,\n",
              " 'Familiarity': 0.2,\n",
              " 'RESTful': 0.2,\n",
              " 'APIs': 0.2,\n",
              " 'JSON': 0.2,\n",
              " 'data': 0.2,\n",
              " 'format': 0.2,\n",
              " 'Strong': 0.2,\n",
              " 'analytical': 0.2,\n",
              " 'problem': 0.2,\n",
              " 'solving': 0.2,\n",
              " 'skills': 0.4,\n",
              " 'Ability': 0.2,\n",
              " 'work': 0.2,\n",
              " 'team': 0.2,\n",
              " 'environment': 0.2,\n",
              " 'Excellent': 0.2,\n",
              " 'written': 0.2,\n",
              " 'verbal': 0.2,\n",
              " 'communication': 0.2,\n",
              " 'Job': 0.2,\n",
              " 'Type': 0.2,\n",
              " 'Internship': 0.2,\n",
              " 'Contract': 0.2,\n",
              " 'length': 0.2,\n",
              " 'months': 0.2,\n",
              " 'Pay': 0.2,\n",
              " 'per': 0.2,\n",
              " 'month': 0.2,\n",
              " 'Schedule': 0.2,\n",
              " 'Day': 0.2,\n",
              " 'shift': 0.2,\n",
              " 'The': 0.2,\n",
              " 'minimum': 0.2,\n",
              " 'salary': 0.4,\n",
              " 'T': 0.6,\n",
              " 'max': 0.2,\n",
              " 'mo': 0.2,\n",
              " 'Employer': 0.2,\n",
              " 'est': 0.2}"
            ]
          },
          "execution_count": 11,
          "metadata": {},
          "output_type": "execute_result"
        }
      ],
      "source": [
        "\n",
        "word_frequencies"
      ]
    },
    {
      "cell_type": "code",
      "execution_count": 12,
      "metadata": {
        "colab": {
          "base_uri": "https://localhost:8080/",
          "height": 561
        },
        "id": "JAFNISwmgx0L",
        "outputId": "fc0a026c-7fd0-4708-9d58-260de7008ba8"
      },
      "outputs": [
        {
          "data": {
            "image/png": "[encoded data removed]",
            "text/plain": [
              "<Figure size 640x480 with 1 Axes>"
            ]
          },
          "metadata": {},
          "output_type": "display_data"
        },
        {
          "data": {
            "text/plain": [
              "<AxesSubplot: xlabel='Samples', ylabel='Counts'>"
            ]
          },
          "execution_count": 12,
          "metadata": {},
          "output_type": "execute_result"
        }
      ],
      "source": [
        "frequency_dist = nltk.FreqDist(word_frequencies)\n",
        "frequency_dist.plot(30)"
      ]
    },
    {
      "cell_type": "code",
      "execution_count": 13,
      "metadata": {
        "id": "Y3ptrOOAg8wx"
      },
      "outputs": [],
      "source": [
        "sentence_scores = {}\n",
        "\n",
        "for sent in sentence_list:\n",
        "    for word in nltk.word_tokenize(sent.lower()):\n",
        "        if word in word_frequencies.keys():\n",
        "            if len(sent.split(' ')) < 30:\n",
        "                if sent not in sentence_scores.keys():\n",
        "                    sentence_scores[sent] = word_frequencies[word]\n",
        "                else:\n",
        "                    sentence_scores[sent] += word_frequencies[word]\n"
      ]
    },
    {
      "cell_type": "code",
      "execution_count": 14,
      "metadata": {
        "id": "dypydqTAhCIT"
      },
      "outputs": [],
      "source": [
        "summary_sentences = heapq.nlargest(7, sentence_scores, key=sentence_scores.get)\n",
        "summary = ' '.join(summary_sentences)"
      ]
    },
    {
      "cell_type": "code",
      "execution_count": 15,
      "metadata": {
        "colab": {
          "base_uri": "https://localhost:8080/",
          "height": 91
        },
        "id": "pbgi9fBYhVlB",
        "outputId": "115b8068-7d78-4ec5-ea82-3da887eb87cc"
      },
      "outputs": [
        {
          "data": {
            "text/plain": [
              "'Identify and fix bugs, and improve the performance of existing applications. Collaborate with cross-functional teams to design, develop, and test new features. Ensure the performance, quality, and responsiveness of applications. The minimum salary is ₹10T and the max salary is ₹10T. Stay up-to-date with new trends, libraries, and technologies in Android development. Requirements: Currently pursuing or recently completed a degree in Computer Science, Software Engineering or a related field. Constems-AI Andoid App Developer Intern Noida Easy Apply Easy Apply Key Responsibilities: Develop and maintain Android applications.'"
            ]
          },
          "execution_count": 15,
          "metadata": {},
          "output_type": "execute_result"
        }
      ],
      "source": [
        "summary"
      ]
    }
  ],
  "metadata": {
    "colab": {
      "provenance": []
    },
    "kernelspec": {
      "display_name": "Python 3",
      "name": "python3"
    },
    "language_info": {
      "codemirror_mode": {
        "name": "ipython",
        "version": 3
      },
      "file_extension": ".py",
      "mimetype": "text/x-python",
      "name": "python",
      "nbconvert_exporter": "python",
      "pygments_lexer": "ipython3",
      "version": "3.11.9"
    }
  },
  "nbformat": 4,
  "nbformat_minor": 0
}
