{
 "cells": [
  {
   "cell_type": "code",
   "execution_count": 1,
   "metadata": {},
   "outputs": [
    {
     "name": "stderr",
     "output_type": "stream",
     "text": [
      "[nltk_data] Downloading package stopwords to\n",
      "[nltk_data]     C:\\Users\\ACER\\AppData\\Roaming\\nltk_data...\n",
      "[nltk_data]   Package stopwords is already up-to-date!\n"
     ]
    },
    {
     "data": {
      "text/plain": [
       "True"
      ]
     },
     "execution_count": 1,
     "metadata": {},
     "output_type": "execute_result"
    }
   ],
   "source": [
    "# If you're running locally and don't have these libraries installed, you can uncomment these\n",
    "# !pip install pyresparser Flask numpy pandas nltk sklearn ftfy spacy python-docx\n",
    "\n",
    "# Downloading NLTK data\n",
    "import nltk\n",
    "nltk.download('stopwords')\n"
   ]
  },
  {
   "cell_type": "code",
   "execution_count": 2,
   "metadata": {},
   "outputs": [],
   "source": [
    "from pyresparser import ResumeParser\n",
    "from docx import Document\n",
    "import numpy as np\n",
    "import pandas as pd\n",
    "import re\n",
    "from ftfy import fix_text\n",
    "from nltk.corpus import stopwords\n",
    "from sklearn.metrics.pairwise import cosine_similarity\n",
    "from sklearn.feature_extraction.text import TfidfVectorizer\n",
    "from sklearn.neighbors import NearestNeighbors\n",
    "import spacy\n"
   ]
  },
  {
   "cell_type": "code",
   "execution_count": 3,
   "metadata": {},
   "outputs": [],
   "source": [
    "stopw = set(stopwords.words('english'))  # Load English stopwords\n"
   ]
  },
  {
   "cell_type": "code",
   "execution_count": 4,
   "metadata": {},
   "outputs": [
    {
     "name": "stdout",
     "output_type": "stream",
     "text": [
      "0         Bengaluru\n",
      "1         Bengaluru\n",
      "2         Bengaluru\n",
      "3         Bengaluru\n",
      "4         Bengaluru\n",
      "           ...     \n",
      "1919      Bengaluru\n",
      "1920      Bengaluru\n",
      "1921      Bengaluru\n",
      "1922      Bengaluru\n",
      "1923      Bengaluru\n",
      "Name: Location, Length: 1924, dtype: object\n"
     ]
    }
   ],
   "source": [
    "# Assuming 'job_final.csv' is present in the working directory\n",
    "df = pd.read_csv('job_final.csv')\n",
    "\n",
    "# Clean job descriptions by removing stopwords and short words (<3 characters)\n",
    "df['test'] = df['Job_Description'].apply(lambda x: ' '.join([word for word in str(x).split() if len(word) > 2 and word not in stopw]))\n",
    "\n",
    "# Print to verify\n",
    "print(df['Location'])\n"
   ]
  },
  {
   "cell_type": "code",
   "execution_count": 16,
   "metadata": {},
   "outputs": [
    {
     "name": "stderr",
     "output_type": "stream",
     "text": [
      "c:\\Users\\ACER\\AppData\\Local\\Programs\\Python\\Python311\\Lib\\site-packages\\spacy\\util.py:275: UserWarning: [W031] Model 'en_training' (0.0.0) requires spaCy v2.1 and is incompatible with the current spaCy version (2.3.9). This may lead to unexpected results or runtime errors. To resolve this, download a newer compatible model or retrain your custom model with the current spaCy version. For more details and available updates, run: python -m spacy validate\n",
      "  warnings.warn(warn_msg)\n"
     ]
    },
    {
     "name": "stdout",
     "output_type": "stream",
     "text": [
      "PDF processed successfully\n",
      "Skills extracted: ['C', 'Retention', 'Technical', 'Security', 'Analysis', 'Oracle', 'Mysql', 'English', 'Programming', 'Database', 'Jira', 'Github', 'C++', 'Tensorflow', 'Cloud', 'Apex', 'Communication', 'Access', 'System', 'Engineering', 'Python', 'Interactive', 'Algorithms', 'Json', 'Opencv', 'Operating systems', 'Sql', 'Video', 'Java', 'Linux', 'Consulting', 'Queries', 'Javascript']\n"
     ]
    }
   ],
   "source": [
    "file_path = 'test.pdf'\n",
    "\n",
    "# Open and process the resume document (simulating file upload)\n",
    "try:\n",
    "    # Simply parse the resume without specifying custom NLP models\n",
    "    data = ResumeParser(file_path).get_extracted_data()\n",
    "    print(\"PDF processed successfully\")\n",
    "    \n",
    "except Exception as e:\n",
    "    print(\"Error processing PDF document:\", e)\n",
    "    data = {}\n",
    "\n",
    "# Extract skills from the resume if parsing was successful\n",
    "resume = data.get('skills', [])\n",
    "print(\"Skills extracted:\", resume)\n"
   ]
  },
  {
   "cell_type": "code",
   "execution_count": 13,
   "metadata": {},
   "outputs": [
    {
     "name": "stdout",
     "output_type": "stream",
     "text": [
      "Vectorizing completed...\n"
     ]
    }
   ],
   "source": [
    "# Prepare resume skills as a single string\n",
    "skills = []\n",
    "skills.append(' '.join(word for word in resume))\n",
    "org_name_clean = skills\n",
    "\n",
    "# Define a function to generate n-grams from text (used later for vectorization)\n",
    "def ngrams(string, n=3):\n",
    "    string = fix_text(string)\n",
    "    string = string.encode(\"ascii\", errors=\"ignore\").decode()\n",
    "    string = string.lower()\n",
    "    chars_to_remove = [\")\", \"(\", \".\", \"|\", \"[\", \"]\", \"{\", \"}\", \"'\"]\n",
    "    rx = '[' + re.escape(''.join(chars_to_remove)) + ']'\n",
    "    string = re.sub(rx, '', string)\n",
    "    string = string.replace('&', 'and')\n",
    "    string = string.replace(',', ' ')\n",
    "    string = string.replace('-', ' ')\n",
    "    string = string.title()\n",
    "    string = re.sub(' +', ' ', string).strip()\n",
    "    string = ' ' + string + ' '\n",
    "    string = re.sub(r'[,-./]|\\sBD', r'', string)\n",
    "    ngrams = zip(*[string[i:] for i in range(n)])\n",
    "    return [''.join(ngram) for ngram in ngrams]\n",
    "\n",
    "# Vectorize the resume skills using TF-IDF\n",
    "vectorizer = TfidfVectorizer(min_df=1, analyzer=ngrams, lowercase=False)\n",
    "tfidf = vectorizer.fit_transform(org_name_clean)\n",
    "print('Vectorizing completed...')\n"
   ]
  },
  {
   "cell_type": "code",
   "execution_count": 14,
   "metadata": {},
   "outputs": [
    {
     "data": {
      "text/html": [
       "<div>\n",
       "<style scoped>\n",
       "    .dataframe tbody tr th:only-of-type {\n",
       "        vertical-align: middle;\n",
       "    }\n",
       "\n",
       "    .dataframe tbody tr th {\n",
       "        vertical-align: top;\n",
       "    }\n",
       "\n",
       "    .dataframe thead th {\n",
       "        text-align: right;\n",
       "    }\n",
       "</style>\n",
       "<table border=\"1\" class=\"dataframe\">\n",
       "  <thead>\n",
       "    <tr style=\"text-align: right;\">\n",
       "      <th></th>\n",
       "      <th>index</th>\n",
       "      <th>Position</th>\n",
       "      <th>Company</th>\n",
       "      <th>Location</th>\n",
       "      <th>url</th>\n",
       "    </tr>\n",
       "  </thead>\n",
       "  <tbody>\n",
       "    <tr>\n",
       "      <th>0</th>\n",
       "      <td>1195</td>\n",
       "      <td>Advance Analytics Consultant</td>\n",
       "      <td>Premier Farnell</td>\n",
       "      <td>Bengaluru</td>\n",
       "      <td>https://www.glassdoor.co.in/partner/jobListing...</td>\n",
       "    </tr>\n",
       "    <tr>\n",
       "      <th>1</th>\n",
       "      <td>1342</td>\n",
       "      <td>Advance Analytics Consultant</td>\n",
       "      <td>Farnell element14</td>\n",
       "      <td>Bengaluru</td>\n",
       "      <td>https://www.glassdoor.co.in/partner/jobListing...</td>\n",
       "    </tr>\n",
       "    <tr>\n",
       "      <th>2</th>\n",
       "      <td>685</td>\n",
       "      <td>Data Analyst</td>\n",
       "      <td>Infratab</td>\n",
       "      <td>Bengaluru</td>\n",
       "      <td>https://www.glassdoor.co.in/partner/jobListing...</td>\n",
       "    </tr>\n",
       "    <tr>\n",
       "      <th>3</th>\n",
       "      <td>1028</td>\n",
       "      <td>Data Analyst</td>\n",
       "      <td>Goalreify</td>\n",
       "      <td>Bengaluru</td>\n",
       "      <td>https://www.glassdoor.co.in/partner/jobListing...</td>\n",
       "    </tr>\n",
       "    <tr>\n",
       "      <th>4</th>\n",
       "      <td>1149</td>\n",
       "      <td>Data Analytics- Interns, Data Analysts</td>\n",
       "      <td>Bengaluru</td>\n",
       "      <td>Bengaluru</td>\n",
       "      <td>https://www.glassdoor.co.in/partner/jobListing...</td>\n",
       "    </tr>\n",
       "    <tr>\n",
       "      <th>5</th>\n",
       "      <td>931</td>\n",
       "      <td>Web Analytics Manager (4-8 Years) for an On-De...</td>\n",
       "      <td>Zyoin</td>\n",
       "      <td>Bengaluru</td>\n",
       "      <td>https://www.glassdoor.co.in/partner/jobListing...</td>\n",
       "    </tr>\n",
       "    <tr>\n",
       "      <th>6</th>\n",
       "      <td>824</td>\n",
       "      <td>Data Scientists</td>\n",
       "      <td>Bloom Consulting Services</td>\n",
       "      <td>Bengaluru</td>\n",
       "      <td>https://www.glassdoor.co.in/partner/jobListing...</td>\n",
       "    </tr>\n",
       "    <tr>\n",
       "      <th>7</th>\n",
       "      <td>1255</td>\n",
       "      <td>Data Scientist, Global Data Science Center of ...</td>\n",
       "      <td>Visa</td>\n",
       "      <td>Bengaluru</td>\n",
       "      <td>https://www.glassdoor.co.in/partner/jobListing...</td>\n",
       "    </tr>\n",
       "    <tr>\n",
       "      <th>8</th>\n",
       "      <td>724</td>\n",
       "      <td>Data Analyst, 2 - Marketing</td>\n",
       "      <td>AllianceData</td>\n",
       "      <td>Bengaluru</td>\n",
       "      <td>https://www.glassdoor.co.in/partner/jobListing...</td>\n",
       "    </tr>\n",
       "    <tr>\n",
       "      <th>9</th>\n",
       "      <td>804</td>\n",
       "      <td>Data Engineer</td>\n",
       "      <td>ExpertEase</td>\n",
       "      <td>Bengaluru</td>\n",
       "      <td>https://www.glassdoor.co.in/partner/jobListing...</td>\n",
       "    </tr>\n",
       "  </tbody>\n",
       "</table>\n",
       "</div>"
      ],
      "text/plain": [
       "   index                                           Position  \\\n",
       "0   1195                       Advance Analytics Consultant   \n",
       "1   1342                       Advance Analytics Consultant   \n",
       "2    685                                       Data Analyst   \n",
       "3   1028                                       Data Analyst   \n",
       "4   1149             Data Analytics- Interns, Data Analysts   \n",
       "5    931  Web Analytics Manager (4-8 Years) for an On-De...   \n",
       "6    824                                    Data Scientists   \n",
       "7   1255  Data Scientist, Global Data Science Center of ...   \n",
       "8    724                        Data Analyst, 2 - Marketing   \n",
       "9    804                                      Data Engineer   \n",
       "\n",
       "                     Company     Location  \\\n",
       "0            Premier Farnell    Bengaluru   \n",
       "1          Farnell element14    Bengaluru   \n",
       "2                   Infratab    Bengaluru   \n",
       "3                  Goalreify    Bengaluru   \n",
       "4                  Bengaluru    Bengaluru   \n",
       "5                      Zyoin    Bengaluru   \n",
       "6  Bloom Consulting Services    Bengaluru   \n",
       "7                       Visa    Bengaluru   \n",
       "8               AllianceData    Bengaluru   \n",
       "9                 ExpertEase    Bengaluru   \n",
       "\n",
       "                                                 url  \n",
       "0  https://www.glassdoor.co.in/partner/jobListing...  \n",
       "1  https://www.glassdoor.co.in/partner/jobListing...  \n",
       "2  https://www.glassdoor.co.in/partner/jobListing...  \n",
       "3  https://www.glassdoor.co.in/partner/jobListing...  \n",
       "4  https://www.glassdoor.co.in/partner/jobListing...  \n",
       "5  https://www.glassdoor.co.in/partner/jobListing...  \n",
       "6  https://www.glassdoor.co.in/partner/jobListing...  \n",
       "7  https://www.glassdoor.co.in/partner/jobListing...  \n",
       "8  https://www.glassdoor.co.in/partner/jobListing...  \n",
       "9  https://www.glassdoor.co.in/partner/jobListing...  "
      ]
     },
     "execution_count": 14,
     "metadata": {},
     "output_type": "execute_result"
    }
   ],
   "source": [
    "# Function to find nearest neighbors based on the resume's skills\n",
    "def getNearestN(query):\n",
    "    queryTFIDF_ = vectorizer.transform(query)\n",
    "    distances, indices = nbrs.kneighbors(queryTFIDF_)\n",
    "    return distances, indices\n",
    "\n",
    "# Fit the Nearest Neighbors model with the job descriptions\n",
    "nbrs = NearestNeighbors(n_neighbors=1, n_jobs=-1).fit(tfidf)\n",
    "\n",
    "# Prepare job descriptions for matching\n",
    "unique_org = df['test'].values\n",
    "distances, indices = getNearestN(unique_org)\n",
    "\n",
    "# Output the nearest matches\n",
    "matches = []\n",
    "for i, j in enumerate(indices):\n",
    "    dist = round(distances[i][0], 2)\n",
    "    temp = [dist]\n",
    "    matches.append(temp)\n",
    "\n",
    "# Convert the match results to a DataFrame for easy handling\n",
    "matches = pd.DataFrame(matches, columns=['Match confidence'])\n",
    "df['match'] = matches['Match confidence']\n",
    "df1 = df.sort_values('match')\n",
    "df2 = df1[['Position', 'Company', 'Location', 'url']].head(10).reset_index()\n",
    "\n",
    "# Clean up Location column\n",
    "df2['Location'] = df2['Location'].str.replace(r'[^\\x00-\\x7F]', '', regex=True)\n",
    "df2['Location'] = df2['Location'].str.replace(\"â€“\", \"\")\n",
    "\n",
    "# Display the top 10 matched jobs\n",
    "df2\n"
   ]
  },
  {
   "cell_type": "code",
   "execution_count": 15,
   "metadata": {},
   "outputs": [
    {
     "data": {
      "text/plain": [
       "[{'Position': 'Advance Analytics Consultant',\n",
       "  'Company': 'Premier Farnell',\n",
       "  'Location': 'Bengaluru',\n",
       "  'Apply Link': 'https://www.glassdoor.co.in/partner/jobListing.htm?pos=2118&ao=3949&s=58&guid=0000016baeaed05a9c74761e75f813aa&src=GD_JOB_AD&t=SR&extid=1&exst=OL&ist=&ast=OL&vt=w&slr=true&cs=1_fab29092&cb=1562003821206&jobListingId=3214630510'},\n",
       " {'Position': 'Advance Analytics Consultant',\n",
       "  'Company': 'Farnell element14',\n",
       "  'Location': 'Bengaluru',\n",
       "  'Apply Link': 'https://www.glassdoor.co.in/partner/jobListing.htm?pos=2122&ao=437149&s=58&guid=0000016baeaed05a9c74761e75f813aa&src=GD_JOB_AD&t=SR&extid=1&exst=OL&ist=&ast=OL&vt=w&slr=true&ea=1&cs=1_64be5100&cb=1562003821209&jobListingId=3214862080'},\n",
       " {'Position': 'Data Analyst',\n",
       "  'Company': 'Infratab',\n",
       "  'Location': '  Bengaluru',\n",
       "  'Apply Link': 'https://www.glassdoor.co.in/partner/jobListing.htm?pos=2029&ao=437149&s=58&guid=0000016b6ff275d3928b9519225ec86e&src=GD_JOB_AD&t=SR&extid=1&exst=OL&ist=&ast=OL&vt=w&slr=true&cs=1_28fbc5c1&cb=1560951289618&jobListingId=3201354103'},\n",
       " {'Position': 'Data Analyst',\n",
       "  'Company': 'Goalreify',\n",
       "  'Location': 'Bengaluru',\n",
       "  'Apply Link': 'https://www.glassdoor.co.in/partner/jobListing.htm?pos=1127&ao=437149&s=58&guid=0000016baead512d93f11de47c2bf2a3&src=GD_JOB_AD&t=SR&extid=1&exst=OL&ist=&ast=OL&vt=w&slr=true&cs=1_a2091785&cb=1562003722986&jobListingId=3227687023'},\n",
       " {'Position': 'Data Analytics- Interns, Data Analysts',\n",
       "  'Company': 'Bengaluru',\n",
       "  'Location': 'Bengaluru',\n",
       "  'Apply Link': 'https://www.glassdoor.co.in/partner/jobListing.htm?pos=2329&ao=4120&s=58&guid=0000016baeaf02b2ab5fbd2932bb3fa0&src=GD_JOB_AD&t=SR&extid=1&exst=OL&ist=&ast=OL&vt=w&slr=true&cs=1_43a83698&cb=1562003834818&jobListingId=3247269654'},\n",
       " {'Position': 'Web Analytics Manager (4-8 Years) for an On-Demand mobile based solution provider.!!',\n",
       "  'Company': 'Zyoin',\n",
       "  'Location': 'Bengaluru',\n",
       "  'Apply Link': 'https://www.glassdoor.co.in/partner/jobListing.htm?pos=2630&ao=116277&s=58&guid=0000016baeaf6082944e1fea2ebd7e93&src=GD_JOB_AD&t=SR&extid=1&exst=OL&ist=&ast=OL&vt=w&slr=true&cs=1_e511ce18&cb=1562003857989&jobListingId=1069989583'},\n",
       " {'Position': 'Data Scientists',\n",
       "  'Company': 'Bloom Consulting Services',\n",
       "  'Location': '  Bengaluru',\n",
       "  'Apply Link': 'https://www.glassdoor.co.in/partner/jobListing.htm?pos=1011&ao=437149&s=58&guid=0000016b6ff137cc9a8ab18ff9b0454f&src=GD_JOB_AD&t=SR&extid=1&exst=OL&ist=&ast=OL&vt=w&slr=true&cs=1_5d3718f6&cb=1560951208287&jobListingId=3200934611'},\n",
       " {'Position': 'Data Scientist, Global Data Science Center of Excellence',\n",
       "  'Company': 'Visa',\n",
       "  'Location': 'Bengaluru',\n",
       "  'Apply Link': 'https://www.glassdoor.co.in/partner/jobListing.htm?pos=414&ao=4134&s=58&guid=0000016baeac7587be95eddabde7cc60&src=GD_JOB_AD&t=SR&extid=1&exst=OL&ist=&ast=OL&vt=w&slr=true&cs=1_99903d2e&cb=1562003666778&jobListingId=3254952934'},\n",
       " {'Position': 'Data Analyst, 2 - Marketing',\n",
       "  'Company': 'AllianceData',\n",
       "  'Location': '  Bengaluru',\n",
       "  'Apply Link': 'https://www.glassdoor.co.in/partner/jobListing.htm?pos=2118&ao=437149&s=58&guid=0000016b6ff29ac9a945274991c7655f&src=GD_JOB_AD&t=SR&extid=1&exst=OL&ist=&ast=OL&vt=w&slr=true&cs=1_dd548a2b&cb=1560951299257&jobListingId=3268931779'},\n",
       " {'Position': 'Data Engineer',\n",
       "  'Company': 'ExpertEase',\n",
       "  'Location': '  Bengaluru',\n",
       "  'Apply Link': 'https://www.glassdoor.co.in/partner/jobListing.htm?pos=2501&ao=437149&s=58&guid=0000016b6ff31c7da4e57be5824f36ca&src=GD_JOB_AD&t=SR&extid=1&exst=OL&ist=&ast=OL&vt=w&slr=true&cs=1_c6f97d6a&cb=1560951332316&jobListingId=3257502738'}]"
      ]
     },
     "execution_count": 15,
     "metadata": {},
     "output_type": "execute_result"
    }
   ],
   "source": [
    "# Extract unique locations for the dropdown (if needed in an application)\n",
    "dropdown_locations = sorted(df2['Location'].unique())\n",
    "\n",
    "# Create a list of jobs to display\n",
    "job_list = []\n",
    "for index, row in df2.iterrows():\n",
    "    job_list.append({\n",
    "        'Position': row['Position'],\n",
    "        'Company': row['Company'],\n",
    "        'Location': row['Location'],\n",
    "        'Apply Link': row['url']\n",
    "    })\n",
    "\n",
    "# Display the list of job matches\n",
    "job_list\n"
   ]
  },
  {
   "cell_type": "code",
   "execution_count": null,
   "metadata": {},
   "outputs": [],
   "source": []
  }
 ],
 "metadata": {
  "kernelspec": {
   "display_name": "Python 3",
   "language": "python",
   "name": "python3"
  },
  "language_info": {
   "codemirror_mode": {
    "name": "ipython",
    "version": 3
   },
   "file_extension": ".py",
   "mimetype": "text/x-python",
   "name": "python",
   "nbconvert_exporter": "python",
   "pygments_lexer": "ipython3",
   "version": "3.11.9"
  }
 },
 "nbformat": 4,
 "nbformat_minor": 2
}
