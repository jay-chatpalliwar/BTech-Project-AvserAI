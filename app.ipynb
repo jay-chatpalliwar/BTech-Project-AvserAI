{
 "cells": [
  {
   "cell_type": "code",
   "execution_count": 2,
   "metadata": {},
   "outputs": [
    {
     "name": "stderr",
     "output_type": "stream",
     "text": [
      "[nltk_data] Downloading package stopwords to\n",
      "[nltk_data]     C:\\Users\\ACER\\AppData\\Roaming\\nltk_data...\n",
      "[nltk_data]   Package stopwords is already up-to-date!\n"
     ]
    },
    {
     "data": {
      "text/plain": [
       "True"
      ]
     },
     "execution_count": 2,
     "metadata": {},
     "output_type": "execute_result"
    }
   ],
   "source": [
    "# If you're running locally and don't have these libraries installed, you can uncomment these\n",
    "# !pip install pyresparser Flask numpy pandas nltk sklearn ftfy spacy python-docx\n",
    "\n",
    "# Downloading NLTK data\n",
    "import nltk\n",
    "nltk.download('stopwords')\n"
   ]
  },
  {
   "cell_type": "code",
   "execution_count": 3,
   "metadata": {},
   "outputs": [],
   "source": [
    "from pyresparser import ResumeParser\n",
    "from docx import Document\n",
    "import numpy as np\n",
    "import pandas as pd\n",
    "import re\n",
    "from ftfy import fix_text\n",
    "from nltk.corpus import stopwords\n",
    "from sklearn.metrics.pairwise import cosine_similarity\n",
    "from sklearn.feature_extraction.text import TfidfVectorizer\n",
    "from sklearn.neighbors import NearestNeighbors\n",
    "import spacy\n"
   ]
  },
  {
   "cell_type": "code",
   "execution_count": 4,
   "metadata": {},
   "outputs": [],
   "source": [
    "stopw = set(stopwords.words('english'))  # Load English stopwords\n"
   ]
  },
  {
   "cell_type": "code",
   "execution_count": 5,
   "metadata": {},
   "outputs": [
    {
     "name": "stdout",
     "output_type": "stream",
     "text": [
      "0    Noida\n",
      "1    Noida\n",
      "2    Noida\n",
      "Name: Location, dtype: object\n"
     ]
    }
   ],
   "source": [
    "# Assuming 'job_final.csv' is present in the working directory\n",
    "df = pd.read_csv('data.csv')\n",
    "\n",
    "# Clean job descriptions by removing stopwords and short words (<3 characters)\n",
    "df['test'] = df['Job_Description'].apply(lambda x: ' '.join([word for word in str(x).split() if len(word) > 2 and word not in stopw]))\n",
    "\n",
    "# Print to verify\n",
    "print(df['Location'])\n"
   ]
  },
  {
   "cell_type": "code",
   "execution_count": 10,
   "metadata": {},
   "outputs": [
    {
     "name": "stderr",
     "output_type": "stream",
     "text": [
      "c:\\Users\\ACER\\AppData\\Local\\Programs\\Python\\Python311\\Lib\\site-packages\\spacy\\util.py:275: UserWarning: [W031] Model 'en_training' (0.0.0) requires spaCy v2.1 and is incompatible with the current spaCy version (2.3.9). This may lead to unexpected results or runtime errors. To resolve this, download a newer compatible model or retrain your custom model with the current spaCy version. For more details and available updates, run: python -m spacy validate\n",
      "  warnings.warn(warn_msg)\n"
     ]
    },
    {
     "name": "stdout",
     "output_type": "stream",
     "text": [
      "PDF processed successfully\n",
      "Skills extracted: ['Tableau', 'Testing', 'Economics', 'Marketing', 'Seo', 'Experiments', 'Excel', 'Analysis', 'Reports', 'Retention', 'Pandas', 'Improvement', 'Python', 'Mathematics', 'Kpis', 'Modeling', 'Conversion', 'Analytics', 'Sql', 'R', 'Reporting']\n"
     ]
    }
   ],
   "source": [
    "file_path = 'test2.pdf'\n",
    "\n",
    "# Open and process the resume document (simulating file upload)\n",
    "try:\n",
    "    # Simply parse the resume without specifying custom NLP models\n",
    "    data = ResumeParser(file_path).get_extracted_data()\n",
    "    print(\"PDF processed successfully\")\n",
    "    \n",
    "except Exception as e:\n",
    "    print(\"Error processing PDF document:\", e)\n",
    "    data = {}\n",
    "\n",
    "# Extract skills from the resume if parsing was successful\n",
    "resume = data.get('skills', [])\n",
    "print(\"Skills extracted:\", resume)\n"
   ]
  },
  {
   "cell_type": "code",
   "execution_count": 11,
   "metadata": {},
   "outputs": [
    {
     "name": "stdout",
     "output_type": "stream",
     "text": [
      "Vectorizing completed...\n"
     ]
    }
   ],
   "source": [
    "# Prepare resume skills as a single string\n",
    "skills = []\n",
    "skills.append(' '.join(word for word in resume))\n",
    "org_name_clean = skills\n",
    "\n",
    "# Define a function to generate n-grams from text (used later for vectorization)\n",
    "def ngrams(string, n=3):\n",
    "    string = fix_text(string)\n",
    "    string = string.encode(\"ascii\", errors=\"ignore\").decode()\n",
    "    string = string.lower()\n",
    "    chars_to_remove = [\")\", \"(\", \".\", \"|\", \"[\", \"]\", \"{\", \"}\", \"'\"]\n",
    "    rx = '[' + re.escape(''.join(chars_to_remove)) + ']'\n",
    "    string = re.sub(rx, '', string)\n",
    "    string = string.replace('&', 'and')\n",
    "    string = string.replace(',', ' ')\n",
    "    string = string.replace('-', ' ')\n",
    "    string = string.title()\n",
    "    string = re.sub(' +', ' ', string).strip()\n",
    "    string = ' ' + string + ' '\n",
    "    string = re.sub(r'[,-./]|\\sBD', r'', string)\n",
    "    ngrams = zip(*[string[i:] for i in range(n)])\n",
    "    return [''.join(ngram) for ngram in ngrams]\n",
    "\n",
    "# Vectorize the resume skills using TF-IDF\n",
    "vectorizer = TfidfVectorizer(min_df=1, analyzer=ngrams, lowercase=False)\n",
    "tfidf = vectorizer.fit_transform(org_name_clean)\n",
    "print('Vectorizing completed...')\n"
   ]
  },
  {
   "cell_type": "code",
   "execution_count": 12,
   "metadata": {},
   "outputs": [
    {
     "data": {
      "text/html": [
       "<div>\n",
       "<style scoped>\n",
       "    .dataframe tbody tr th:only-of-type {\n",
       "        vertical-align: middle;\n",
       "    }\n",
       "\n",
       "    .dataframe tbody tr th {\n",
       "        vertical-align: top;\n",
       "    }\n",
       "\n",
       "    .dataframe thead th {\n",
       "        text-align: right;\n",
       "    }\n",
       "</style>\n",
       "<table border=\"1\" class=\"dataframe\">\n",
       "  <thead>\n",
       "    <tr style=\"text-align: right;\">\n",
       "      <th></th>\n",
       "      <th>index</th>\n",
       "      <th>Position</th>\n",
       "      <th>Company</th>\n",
       "      <th>Location</th>\n",
       "      <th>url</th>\n",
       "    </tr>\n",
       "  </thead>\n",
       "  <tbody>\n",
       "    <tr>\n",
       "      <th>0</th>\n",
       "      <td>0</td>\n",
       "      <td>Android App Developer Intern</td>\n",
       "      <td>Constems-AI</td>\n",
       "      <td>Noida</td>\n",
       "      <td>https://www.glassdoor.co.in/job-listing/andoid...</td>\n",
       "    </tr>\n",
       "    <tr>\n",
       "      <th>1</th>\n",
       "      <td>2</td>\n",
       "      <td>ReactJS Developer Intern</td>\n",
       "      <td>Constems-AI</td>\n",
       "      <td>Noida</td>\n",
       "      <td>https://www.glassdoor.co.in/job-listing/reactj...</td>\n",
       "    </tr>\n",
       "    <tr>\n",
       "      <th>2</th>\n",
       "      <td>1</td>\n",
       "      <td>Backend Developer Intern</td>\n",
       "      <td>INTERNATIONAL YOUTH EDU-SKILLS FOUNDATION</td>\n",
       "      <td>Noida</td>\n",
       "      <td>https://www.glassdoor.co.in/job-listing/backen...</td>\n",
       "    </tr>\n",
       "  </tbody>\n",
       "</table>\n",
       "</div>"
      ],
      "text/plain": [
       "   index                      Position  \\\n",
       "0      0  Android App Developer Intern   \n",
       "1      2      ReactJS Developer Intern   \n",
       "2      1      Backend Developer Intern   \n",
       "\n",
       "                                     Company Location  \\\n",
       "0                                Constems-AI    Noida   \n",
       "1                                Constems-AI    Noida   \n",
       "2  INTERNATIONAL YOUTH EDU-SKILLS FOUNDATION    Noida   \n",
       "\n",
       "                                                 url  \n",
       "0  https://www.glassdoor.co.in/job-listing/andoid...  \n",
       "1  https://www.glassdoor.co.in/job-listing/reactj...  \n",
       "2  https://www.glassdoor.co.in/job-listing/backen...  "
      ]
     },
     "execution_count": 12,
     "metadata": {},
     "output_type": "execute_result"
    }
   ],
   "source": [
    "# Function to find nearest neighbors based on the resume's skills\n",
    "def getNearestN(query):\n",
    "    queryTFIDF_ = vectorizer.transform(query)\n",
    "    distances, indices = nbrs.kneighbors(queryTFIDF_)\n",
    "    return distances, indices\n",
    "\n",
    "# Fit the Nearest Neighbors model with the job descriptions\n",
    "nbrs = NearestNeighbors(n_neighbors=1, n_jobs=-1).fit(tfidf)\n",
    "\n",
    "# Prepare job descriptions for matching\n",
    "unique_org = df['test'].values\n",
    "distances, indices = getNearestN(unique_org)\n",
    "\n",
    "# Output the nearest matches\n",
    "matches = []\n",
    "for i, j in enumerate(indices):\n",
    "    dist = round(distances[i][0], 2)\n",
    "    temp = [dist]\n",
    "    matches.append(temp)\n",
    "\n",
    "# Convert the match results to a DataFrame for easy handling\n",
    "matches = pd.DataFrame(matches, columns=['Match confidence'])\n",
    "df['match'] = matches['Match confidence']\n",
    "df1 = df.sort_values('match')\n",
    "df2 = df1[['Position', 'Company', 'Location', 'url']].head(10).reset_index()\n",
    "\n",
    "# Clean up Location column\n",
    "df2['Location'] = df2['Location'].str.replace(r'[^\\x00-\\x7F]', '', regex=True)\n",
    "df2['Location'] = df2['Location'].str.replace(\"â€“\", \"\")\n",
    "\n",
    "# Display the top 10 matched jobs\n",
    "df2\n"
   ]
  },
  {
   "cell_type": "code",
   "execution_count": 9,
   "metadata": {},
   "outputs": [
    {
     "data": {
      "text/plain": [
       "[{'Position': 'Backend Developer Intern',\n",
       "  'Company': 'INTERNATIONAL YOUTH EDU-SKILLS FOUNDATION',\n",
       "  'Location': 'Noida',\n",
       "  'Apply Link': 'https://www.glassdoor.co.in/job-listing/backend-developer-intern-international-youth-edu-skills-foundation-JV_IC4477468_KO0,24_KE25,66.htm?jl=1009377074499'},\n",
       " {'Position': 'Android App Developer Intern',\n",
       "  'Company': 'Constems-AI',\n",
       "  'Location': 'Noida',\n",
       "  'Apply Link': 'https://www.glassdoor.co.in/job-listing/andoid-app-developer-intern-constems-ai-JV_IC4477468_KO0,27_KE28,39.htm?jl=1009485312339'},\n",
       " {'Position': 'ReactJS Developer Intern',\n",
       "  'Company': 'Constems-AI',\n",
       "  'Location': 'Noida',\n",
       "  'Apply Link': 'https://www.glassdoor.co.in/job-listing/reactjs-developer-intern-constems-ai-JV_IC4477468_KO0,24_KE25,36.htm?jl=1009395932098'}]"
      ]
     },
     "execution_count": 9,
     "metadata": {},
     "output_type": "execute_result"
    }
   ],
   "source": [
    "# Extract unique locations for the dropdown (if needed in an application)\n",
    "dropdown_locations = sorted(df2['Location'].unique())\n",
    "\n",
    "# Create a list of jobs to display\n",
    "job_list = []\n",
    "for index, row in df2.iterrows():\n",
    "    job_list.append({\n",
    "        'Position': row['Position'],\n",
    "        'Company': row['Company'],\n",
    "        'Location': row['Location'],\n",
    "        'Apply Link': row['url']\n",
    "    })\n",
    "\n",
    "# Display the list of job matches\n",
    "job_list\n"
   ]
  },
  {
   "cell_type": "code",
   "execution_count": null,
   "metadata": {},
   "outputs": [],
   "source": []
  }
 ],
 "metadata": {
  "kernelspec": {
   "display_name": "Python 3",
   "language": "python",
   "name": "python3"
  },
  "language_info": {
   "codemirror_mode": {
    "name": "ipython",
    "version": 3
   },
   "file_extension": ".py",
   "mimetype": "text/x-python",
   "name": "python",
   "nbconvert_exporter": "python",
   "pygments_lexer": "ipython3",
   "version": "3.11.9"
  }
 },
 "nbformat": 4,
 "nbformat_minor": 2
}
